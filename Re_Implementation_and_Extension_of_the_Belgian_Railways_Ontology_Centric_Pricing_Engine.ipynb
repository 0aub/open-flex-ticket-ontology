{
  "nbformat": 4,
  "nbformat_minor": 0,
  "metadata": {
    "colab": {
      "provenance": []
    },
    "kernelspec": {
      "name": "python3",
      "display_name": "Python 3"
    },
    "language_info": {
      "name": "python"
    },
    "widgets": {
      "application/vnd.jupyter.widget-state+json": {
        "345eab31d5294316b91c913c9c0da065": {
          "model_module": "@jupyter-widgets/controls",
          "model_name": "HBoxModel",
          "model_module_version": "1.5.0",
          "state": {
            "_dom_classes": [],
            "_model_module": "@jupyter-widgets/controls",
            "_model_module_version": "1.5.0",
            "_model_name": "HBoxModel",
            "_view_count": null,
            "_view_module": "@jupyter-widgets/controls",
            "_view_module_version": "1.5.0",
            "_view_name": "HBoxView",
            "box_style": "",
            "children": [
              "IPY_MODEL_309f0de5585d4bc0b22f915b85f4540d",
              "IPY_MODEL_e814f36b256a44bfabc279bfbdd9977c",
              "IPY_MODEL_5280480686f84121885554399605bc91"
            ],
            "layout": "IPY_MODEL_1e81eb1f43d9445e8bd011da32527ba0"
          }
        },
        "309f0de5585d4bc0b22f915b85f4540d": {
          "model_module": "@jupyter-widgets/controls",
          "model_name": "HTMLModel",
          "model_module_version": "1.5.0",
          "state": {
            "_dom_classes": [],
            "_model_module": "@jupyter-widgets/controls",
            "_model_module_version": "1.5.0",
            "_model_name": "HTMLModel",
            "_view_count": null,
            "_view_module": "@jupyter-widgets/controls",
            "_view_module_version": "1.5.0",
            "_view_name": "HTMLView",
            "description": "",
            "description_tooltip": null,
            "layout": "IPY_MODEL_2343dbc5e3ad4ee7bc0b49ae7f7bd859",
            "placeholder": "​",
            "style": "IPY_MODEL_843fc1e6d5134854805aebd070a8b1b3",
            "value": "in-mem queries: 100%"
          }
        },
        "e814f36b256a44bfabc279bfbdd9977c": {
          "model_module": "@jupyter-widgets/controls",
          "model_name": "FloatProgressModel",
          "model_module_version": "1.5.0",
          "state": {
            "_dom_classes": [],
            "_model_module": "@jupyter-widgets/controls",
            "_model_module_version": "1.5.0",
            "_model_name": "FloatProgressModel",
            "_view_count": null,
            "_view_module": "@jupyter-widgets/controls",
            "_view_module_version": "1.5.0",
            "_view_name": "ProgressView",
            "bar_style": "success",
            "description": "",
            "description_tooltip": null,
            "layout": "IPY_MODEL_f26d6e379bb3496097f3f93f9b42835c",
            "max": 5000,
            "min": 0,
            "orientation": "horizontal",
            "style": "IPY_MODEL_2ac275e122094be6b5414ba1c0782bed",
            "value": 5000
          }
        },
        "5280480686f84121885554399605bc91": {
          "model_module": "@jupyter-widgets/controls",
          "model_name": "HTMLModel",
          "model_module_version": "1.5.0",
          "state": {
            "_dom_classes": [],
            "_model_module": "@jupyter-widgets/controls",
            "_model_module_version": "1.5.0",
            "_model_name": "HTMLModel",
            "_view_count": null,
            "_view_module": "@jupyter-widgets/controls",
            "_view_module_version": "1.5.0",
            "_view_name": "HTMLView",
            "description": "",
            "description_tooltip": null,
            "layout": "IPY_MODEL_e1e04322cf29462ea78cd8b015999338",
            "placeholder": "​",
            "style": "IPY_MODEL_a8ad823975934730bff8e0b2a6d175bf",
            "value": " 5000/5000 [00:00&lt;00:00, 139251.27it/s]"
          }
        },
        "1e81eb1f43d9445e8bd011da32527ba0": {
          "model_module": "@jupyter-widgets/base",
          "model_name": "LayoutModel",
          "model_module_version": "1.2.0",
          "state": {
            "_model_module": "@jupyter-widgets/base",
            "_model_module_version": "1.2.0",
            "_model_name": "LayoutModel",
            "_view_count": null,
            "_view_module": "@jupyter-widgets/base",
            "_view_module_version": "1.2.0",
            "_view_name": "LayoutView",
            "align_content": null,
            "align_items": null,
            "align_self": null,
            "border": null,
            "bottom": null,
            "display": null,
            "flex": null,
            "flex_flow": null,
            "grid_area": null,
            "grid_auto_columns": null,
            "grid_auto_flow": null,
            "grid_auto_rows": null,
            "grid_column": null,
            "grid_gap": null,
            "grid_row": null,
            "grid_template_areas": null,
            "grid_template_columns": null,
            "grid_template_rows": null,
            "height": null,
            "justify_content": null,
            "justify_items": null,
            "left": null,
            "margin": null,
            "max_height": null,
            "max_width": null,
            "min_height": null,
            "min_width": null,
            "object_fit": null,
            "object_position": null,
            "order": null,
            "overflow": null,
            "overflow_x": null,
            "overflow_y": null,
            "padding": null,
            "right": null,
            "top": null,
            "visibility": null,
            "width": null
          }
        },
        "2343dbc5e3ad4ee7bc0b49ae7f7bd859": {
          "model_module": "@jupyter-widgets/base",
          "model_name": "LayoutModel",
          "model_module_version": "1.2.0",
          "state": {
            "_model_module": "@jupyter-widgets/base",
            "_model_module_version": "1.2.0",
            "_model_name": "LayoutModel",
            "_view_count": null,
            "_view_module": "@jupyter-widgets/base",
            "_view_module_version": "1.2.0",
            "_view_name": "LayoutView",
            "align_content": null,
            "align_items": null,
            "align_self": null,
            "border": null,
            "bottom": null,
            "display": null,
            "flex": null,
            "flex_flow": null,
            "grid_area": null,
            "grid_auto_columns": null,
            "grid_auto_flow": null,
            "grid_auto_rows": null,
            "grid_column": null,
            "grid_gap": null,
            "grid_row": null,
            "grid_template_areas": null,
            "grid_template_columns": null,
            "grid_template_rows": null,
            "height": null,
            "justify_content": null,
            "justify_items": null,
            "left": null,
            "margin": null,
            "max_height": null,
            "max_width": null,
            "min_height": null,
            "min_width": null,
            "object_fit": null,
            "object_position": null,
            "order": null,
            "overflow": null,
            "overflow_x": null,
            "overflow_y": null,
            "padding": null,
            "right": null,
            "top": null,
            "visibility": null,
            "width": null
          }
        },
        "843fc1e6d5134854805aebd070a8b1b3": {
          "model_module": "@jupyter-widgets/controls",
          "model_name": "DescriptionStyleModel",
          "model_module_version": "1.5.0",
          "state": {
            "_model_module": "@jupyter-widgets/controls",
            "_model_module_version": "1.5.0",
            "_model_name": "DescriptionStyleModel",
            "_view_count": null,
            "_view_module": "@jupyter-widgets/base",
            "_view_module_version": "1.2.0",
            "_view_name": "StyleView",
            "description_width": ""
          }
        },
        "f26d6e379bb3496097f3f93f9b42835c": {
          "model_module": "@jupyter-widgets/base",
          "model_name": "LayoutModel",
          "model_module_version": "1.2.0",
          "state": {
            "_model_module": "@jupyter-widgets/base",
            "_model_module_version": "1.2.0",
            "_model_name": "LayoutModel",
            "_view_count": null,
            "_view_module": "@jupyter-widgets/base",
            "_view_module_version": "1.2.0",
            "_view_name": "LayoutView",
            "align_content": null,
            "align_items": null,
            "align_self": null,
            "border": null,
            "bottom": null,
            "display": null,
            "flex": null,
            "flex_flow": null,
            "grid_area": null,
            "grid_auto_columns": null,
            "grid_auto_flow": null,
            "grid_auto_rows": null,
            "grid_column": null,
            "grid_gap": null,
            "grid_row": null,
            "grid_template_areas": null,
            "grid_template_columns": null,
            "grid_template_rows": null,
            "height": null,
            "justify_content": null,
            "justify_items": null,
            "left": null,
            "margin": null,
            "max_height": null,
            "max_width": null,
            "min_height": null,
            "min_width": null,
            "object_fit": null,
            "object_position": null,
            "order": null,
            "overflow": null,
            "overflow_x": null,
            "overflow_y": null,
            "padding": null,
            "right": null,
            "top": null,
            "visibility": null,
            "width": null
          }
        },
        "2ac275e122094be6b5414ba1c0782bed": {
          "model_module": "@jupyter-widgets/controls",
          "model_name": "ProgressStyleModel",
          "model_module_version": "1.5.0",
          "state": {
            "_model_module": "@jupyter-widgets/controls",
            "_model_module_version": "1.5.0",
            "_model_name": "ProgressStyleModel",
            "_view_count": null,
            "_view_module": "@jupyter-widgets/base",
            "_view_module_version": "1.2.0",
            "_view_name": "StyleView",
            "bar_color": null,
            "description_width": ""
          }
        },
        "e1e04322cf29462ea78cd8b015999338": {
          "model_module": "@jupyter-widgets/base",
          "model_name": "LayoutModel",
          "model_module_version": "1.2.0",
          "state": {
            "_model_module": "@jupyter-widgets/base",
            "_model_module_version": "1.2.0",
            "_model_name": "LayoutModel",
            "_view_count": null,
            "_view_module": "@jupyter-widgets/base",
            "_view_module_version": "1.2.0",
            "_view_name": "LayoutView",
            "align_content": null,
            "align_items": null,
            "align_self": null,
            "border": null,
            "bottom": null,
            "display": null,
            "flex": null,
            "flex_flow": null,
            "grid_area": null,
            "grid_auto_columns": null,
            "grid_auto_flow": null,
            "grid_auto_rows": null,
            "grid_column": null,
            "grid_gap": null,
            "grid_row": null,
            "grid_template_areas": null,
            "grid_template_columns": null,
            "grid_template_rows": null,
            "height": null,
            "justify_content": null,
            "justify_items": null,
            "left": null,
            "margin": null,
            "max_height": null,
            "max_width": null,
            "min_height": null,
            "min_width": null,
            "object_fit": null,
            "object_position": null,
            "order": null,
            "overflow": null,
            "overflow_x": null,
            "overflow_y": null,
            "padding": null,
            "right": null,
            "top": null,
            "visibility": null,
            "width": null
          }
        },
        "a8ad823975934730bff8e0b2a6d175bf": {
          "model_module": "@jupyter-widgets/controls",
          "model_name": "DescriptionStyleModel",
          "model_module_version": "1.5.0",
          "state": {
            "_model_module": "@jupyter-widgets/controls",
            "_model_module_version": "1.5.0",
            "_model_name": "DescriptionStyleModel",
            "_view_count": null,
            "_view_module": "@jupyter-widgets/base",
            "_view_module_version": "1.2.0",
            "_view_name": "StyleView",
            "description_width": ""
          }
        }
      }
    }
  },
  "cells": [
    {
      "cell_type": "markdown",
      "source": [
        "### ✅ Step 0: Environment Setup"
      ],
      "metadata": {
        "id": "KbYnV75N3Rn6"
      }
    },
    {
      "cell_type": "code",
      "execution_count": 13,
      "metadata": {
        "colab": {
          "base_uri": "https://localhost:8080/"
        },
        "id": "ZKU5dOp626Hb",
        "outputId": "b4eb8871-808c-4f9b-e1ce-d3a957b5cf4c"
      },
      "outputs": [
        {
          "output_type": "stream",
          "name": "stdout",
          "text": [
            "Requirement already satisfied: owlready2 in /usr/local/lib/python3.11/dist-packages (0.48)\n",
            "Requirement already satisfied: pandas in /usr/local/lib/python3.11/dist-packages (2.2.2)\n",
            "Requirement already satisfied: numpy in /usr/local/lib/python3.11/dist-packages (2.0.2)\n",
            "Requirement already satisfied: matplotlib in /usr/local/lib/python3.11/dist-packages (3.10.0)\n",
            "Requirement already satisfied: tqdm in /usr/local/lib/python3.11/dist-packages (4.67.1)\n",
            "Requirement already satisfied: python-dateutil>=2.8.2 in /usr/local/lib/python3.11/dist-packages (from pandas) (2.9.0.post0)\n",
            "Requirement already satisfied: pytz>=2020.1 in /usr/local/lib/python3.11/dist-packages (from pandas) (2025.2)\n",
            "Requirement already satisfied: tzdata>=2022.7 in /usr/local/lib/python3.11/dist-packages (from pandas) (2025.2)\n",
            "Requirement already satisfied: contourpy>=1.0.1 in /usr/local/lib/python3.11/dist-packages (from matplotlib) (1.3.2)\n",
            "Requirement already satisfied: cycler>=0.10 in /usr/local/lib/python3.11/dist-packages (from matplotlib) (0.12.1)\n",
            "Requirement already satisfied: fonttools>=4.22.0 in /usr/local/lib/python3.11/dist-packages (from matplotlib) (4.58.1)\n",
            "Requirement already satisfied: kiwisolver>=1.3.1 in /usr/local/lib/python3.11/dist-packages (from matplotlib) (1.4.8)\n",
            "Requirement already satisfied: packaging>=20.0 in /usr/local/lib/python3.11/dist-packages (from matplotlib) (24.2)\n",
            "Requirement already satisfied: pillow>=8 in /usr/local/lib/python3.11/dist-packages (from matplotlib) (11.2.1)\n",
            "Requirement already satisfied: pyparsing>=2.3.1 in /usr/local/lib/python3.11/dist-packages (from matplotlib) (3.2.3)\n",
            "Requirement already satisfied: six>=1.5 in /usr/local/lib/python3.11/dist-packages (from python-dateutil>=2.8.2->pandas) (1.17.0)\n"
          ]
        }
      ],
      "source": [
        "!pip install owlready2 pandas numpy matplotlib tqdm"
      ]
    },
    {
      "cell_type": "markdown",
      "source": [
        "### ✅ Step 1: Ontology Definition"
      ],
      "metadata": {
        "id": "tiMmpglF3XSC"
      }
    },
    {
      "cell_type": "code",
      "source": [
        "from owlready2 import *\n",
        "from uuid import uuid4\n",
        "\n",
        "onto = get_ontology(\"http://example.org/rail.owl\")\n",
        "with onto:\n",
        "    # --- core domain ----------------------------------------------------\n",
        "    class Person(Thing): pass\n",
        "    class Student(Person): pass                # ← extension 1\n",
        "    class Employer(Thing): pass\n",
        "    class Ticket(Thing): pass\n",
        "    class FlexibleSeasonTicket(Ticket): pass\n",
        "    class Warning(Thing): pass                 # low-contribution flag\n",
        "\n",
        "    # --- object props ---------------------------------------------------\n",
        "    class works_for(Person >> Employer): pass\n",
        "    class has_ticket(Person >> Ticket): pass\n",
        "\n",
        "    # --- data props -----------------------------------------------------\n",
        "    class price(Ticket >> float, DataProperty): pass\n",
        "    class peak_start(Ticket >> bool, DataProperty): pass   # extension 2\n",
        "    class multi_modal(Ticket >> bool, DataProperty): pass  # extension 3\n",
        "    class employer_contribution(Employer >> float, DataProperty): pass\n"
      ],
      "metadata": {
        "id": "iZFlIXe73Hwv"
      },
      "execution_count": 14,
      "outputs": []
    },
    {
      "cell_type": "markdown",
      "source": [
        "### ✅ Step 2: Rules Engine (aggregates + NAF + existentials)\n"
      ],
      "metadata": {
        "id": "zbeS9pYA3rhc"
      }
    },
    {
      "cell_type": "code",
      "source": [
        "import random, datetime as dt\n",
        "\n",
        "class RailRules:\n",
        "    def __init__(self, onto):\n",
        "        self.onto = onto\n",
        "\n",
        "    # 3.2 — Negation-as-Failure + aggregate\n",
        "    def min_employer_contrib(self, ratio=0.30):\n",
        "        for emp in self.onto.Employer.instances():\n",
        "            tickets = [t for p in self.onto.Person.instances()\n",
        "                         if emp in p.works_for\n",
        "                         for t in p.has_ticket]\n",
        "            total = sum(t.price.first() for t in tickets)\n",
        "            paid  = emp.employer_contribution.first()\n",
        "            if total > 0 and paid < ratio * total:\n",
        "                # create one warning per employer (existential)\n",
        "                name = f\"LowContribution_{uuid4().hex[:6]}\"\n",
        "                w = self.onto.Warning(name)\n",
        "                w.comment = [f\"{emp.name}: {paid/total:.0%} (<{ratio:.0%})\"]\n",
        "\n",
        "    # extra business rules ----------------------------------------------\n",
        "    def student_discount(self):\n",
        "        for p in self.onto.Student.instances():\n",
        "            for t in p.has_ticket:\n",
        "                t.price = [round(0.8 * t.price.first(), 2)]  # 20 % off\n",
        "\n",
        "    def peak_surcharge(self):\n",
        "        for t in self.onto.Ticket.instances():\n",
        "            if t.peak_start.first():          # boolean flag set in data gen\n",
        "                t.price = [round(1.15 * t.price.first(), 2)]\n",
        "\n",
        "    def multimodal_supplement(self):\n",
        "        for t in self.onto.Ticket.instances():\n",
        "            if t.multi_modal.first():\n",
        "                t.price = [round(t.price.first() + 25, 2)]\n",
        "\n",
        "    def run(self):\n",
        "        self.student_discount()\n",
        "        self.peak_surcharge()\n",
        "        self.multimodal_supplement()\n",
        "        self.min_employer_contrib()\n",
        "\n",
        "engine = RailRules(onto)\n"
      ],
      "metadata": {
        "id": "7uOSKtZh3MmM"
      },
      "execution_count": 15,
      "outputs": []
    },
    {
      "cell_type": "markdown",
      "source": [
        "### ✅ Step 3: Synthetic Data Generator\n"
      ],
      "metadata": {
        "id": "R7Cms2Hf3zr0"
      }
    },
    {
      "cell_type": "code",
      "source": [
        "import numpy as np\n",
        "from tqdm.auto import trange\n",
        "\n",
        "N_EMP          = 10\n",
        "N_PERSON_EMP   = 50\n",
        "PEAK_RATE      = 0.35     # 35 % of tickets start in peak\n",
        "MULTI_RATE     = 0.25     # 25 % are multimodal\n",
        "STUDENT_RATE   = 0.15     # 15 % of persons are students\n",
        "\n",
        "rng = np.random.default_rng(42)\n",
        "for e in range(N_EMP):\n",
        "    emp  = onto.Employer(f\"Emp_{e:02d}\")\n",
        "    total_price = 0\n",
        "    for p in range(N_PERSON_EMP):\n",
        "        is_student = rng.random() < STUDENT_RATE\n",
        "        person_cls = onto.Student if is_student else onto.Person\n",
        "        person = person_cls(f\"P_{e:02d}_{p:03d}\")\n",
        "        person.works_for = [emp]\n",
        "\n",
        "        base_price = rng.uniform(60, 250)\n",
        "        t = onto.FlexibleSeasonTicket(f\"T_{uuid4().hex[:8]}\")\n",
        "        t.price      = [round(base_price,2)]\n",
        "        t.peak_start = [rng.random() < PEAK_RATE]\n",
        "        t.multi_modal= [rng.random() < MULTI_RATE]\n",
        "        person.has_ticket = [t]\n",
        "\n",
        "        total_price += base_price\n",
        "    emp.employer_contribution = [round(rng.uniform(.25, .55) * total_price, 2)]\n",
        "\n",
        "print(\"👍 Data populated\")\n"
      ],
      "metadata": {
        "colab": {
          "base_uri": "https://localhost:8080/"
        },
        "id": "knEe4XMl36Nn",
        "outputId": "0c4bc0a6-f910-4b6f-dc8e-4af439ddfb45"
      },
      "execution_count": 16,
      "outputs": [
        {
          "output_type": "stream",
          "name": "stdout",
          "text": [
            "👍 Data populated\n"
          ]
        }
      ]
    },
    {
      "cell_type": "markdown",
      "source": [
        "### ✅ Step 4: Fire all rules once"
      ],
      "metadata": {
        "id": "y2NOIXF13_xb"
      }
    },
    {
      "cell_type": "code",
      "source": [
        "engine.run()\n",
        "print(\"Warnings flagged:\", len(list(onto.Warning.instances())))"
      ],
      "metadata": {
        "colab": {
          "base_uri": "https://localhost:8080/"
        },
        "id": "p-T5WJ0r-ixw",
        "outputId": "e101164e-604c-40c7-f382-f1ec560581d6"
      },
      "execution_count": 17,
      "outputs": [
        {
          "output_type": "stream",
          "name": "stdout",
          "text": [
            "Warnings flagged: 624\n"
          ]
        }
      ]
    },
    {
      "cell_type": "markdown",
      "source": [
        "### ✅ Step 5: Collect quote results\n"
      ],
      "metadata": {
        "id": "D4pjQB_n-gEY"
      }
    },
    {
      "cell_type": "code",
      "source": [
        "import pandas as pd\n",
        "\n",
        "rows = []\n",
        "for p in onto.Person.instances():\n",
        "    t   = p.has_ticket.first()\n",
        "    emp = p.works_for.first()\n",
        "    rows.append({\n",
        "        \"person\"     : p.name,\n",
        "        \"student\"    : isinstance(p, onto.Student),\n",
        "        \"ticket\"     : t.name,\n",
        "        \"peak\"       : t.peak_start.first(),\n",
        "        \"multi_mod\"  : t.multi_modal.first(),\n",
        "        \"price\"      : t.price.first(),\n",
        "        \"employer\"   : emp.name,\n",
        "        \"emp_contrib\": emp.employer_contribution.first()\n",
        "    })\n",
        "df = pd.DataFrame(rows)\n",
        "df[\"employee_pay\"] = df.price - df.emp_contrib / N_PERSON_EMP\n",
        "df.to_csv(\"quote_results.csv\", index=False)\n",
        "df.head()"
      ],
      "metadata": {
        "colab": {
          "base_uri": "https://localhost:8080/",
          "height": 226
        },
        "id": "W-5pUhNt-vNK",
        "outputId": "18caa8e9-efb4-43ea-aa94-e7bca340eccb"
      },
      "execution_count": 18,
      "outputs": [
        {
          "output_type": "execute_result",
          "data": {
            "text/plain": [
              "     person  student      ticket   peak  multi_mod   price employer  \\\n",
              "0  P_00_000    False  T_68531c13  False      False  143.39   Emp_00   \n",
              "1  P_00_001     True  T_580dcc84  False      False  196.30   Emp_00   \n",
              "2  P_00_002     True  T_81296475  False      False  116.46   Emp_00   \n",
              "3  P_00_003    False  T_dba299fe  False       True  241.32   Emp_00   \n",
              "4  P_00_004    False  T_177cd843  False      False   72.13   Emp_00   \n",
              "\n",
              "   emp_contrib  employee_pay  \n",
              "0      3976.96       63.8508  \n",
              "1      3976.96      116.7608  \n",
              "2      3976.96       36.9208  \n",
              "3      3976.96      161.7808  \n",
              "4      3976.96       -7.4092  "
            ],
            "text/html": [
              "\n",
              "  <div id=\"df-0018551f-b8a0-4b3d-af79-494e1d74ffa5\" class=\"colab-df-container\">\n",
              "    <div>\n",
              "<style scoped>\n",
              "    .dataframe tbody tr th:only-of-type {\n",
              "        vertical-align: middle;\n",
              "    }\n",
              "\n",
              "    .dataframe tbody tr th {\n",
              "        vertical-align: top;\n",
              "    }\n",
              "\n",
              "    .dataframe thead th {\n",
              "        text-align: right;\n",
              "    }\n",
              "</style>\n",
              "<table border=\"1\" class=\"dataframe\">\n",
              "  <thead>\n",
              "    <tr style=\"text-align: right;\">\n",
              "      <th></th>\n",
              "      <th>person</th>\n",
              "      <th>student</th>\n",
              "      <th>ticket</th>\n",
              "      <th>peak</th>\n",
              "      <th>multi_mod</th>\n",
              "      <th>price</th>\n",
              "      <th>employer</th>\n",
              "      <th>emp_contrib</th>\n",
              "      <th>employee_pay</th>\n",
              "    </tr>\n",
              "  </thead>\n",
              "  <tbody>\n",
              "    <tr>\n",
              "      <th>0</th>\n",
              "      <td>P_00_000</td>\n",
              "      <td>False</td>\n",
              "      <td>T_68531c13</td>\n",
              "      <td>False</td>\n",
              "      <td>False</td>\n",
              "      <td>143.39</td>\n",
              "      <td>Emp_00</td>\n",
              "      <td>3976.96</td>\n",
              "      <td>63.8508</td>\n",
              "    </tr>\n",
              "    <tr>\n",
              "      <th>1</th>\n",
              "      <td>P_00_001</td>\n",
              "      <td>True</td>\n",
              "      <td>T_580dcc84</td>\n",
              "      <td>False</td>\n",
              "      <td>False</td>\n",
              "      <td>196.30</td>\n",
              "      <td>Emp_00</td>\n",
              "      <td>3976.96</td>\n",
              "      <td>116.7608</td>\n",
              "    </tr>\n",
              "    <tr>\n",
              "      <th>2</th>\n",
              "      <td>P_00_002</td>\n",
              "      <td>True</td>\n",
              "      <td>T_81296475</td>\n",
              "      <td>False</td>\n",
              "      <td>False</td>\n",
              "      <td>116.46</td>\n",
              "      <td>Emp_00</td>\n",
              "      <td>3976.96</td>\n",
              "      <td>36.9208</td>\n",
              "    </tr>\n",
              "    <tr>\n",
              "      <th>3</th>\n",
              "      <td>P_00_003</td>\n",
              "      <td>False</td>\n",
              "      <td>T_dba299fe</td>\n",
              "      <td>False</td>\n",
              "      <td>True</td>\n",
              "      <td>241.32</td>\n",
              "      <td>Emp_00</td>\n",
              "      <td>3976.96</td>\n",
              "      <td>161.7808</td>\n",
              "    </tr>\n",
              "    <tr>\n",
              "      <th>4</th>\n",
              "      <td>P_00_004</td>\n",
              "      <td>False</td>\n",
              "      <td>T_177cd843</td>\n",
              "      <td>False</td>\n",
              "      <td>False</td>\n",
              "      <td>72.13</td>\n",
              "      <td>Emp_00</td>\n",
              "      <td>3976.96</td>\n",
              "      <td>-7.4092</td>\n",
              "    </tr>\n",
              "  </tbody>\n",
              "</table>\n",
              "</div>\n",
              "    <div class=\"colab-df-buttons\">\n",
              "\n",
              "  <div class=\"colab-df-container\">\n",
              "    <button class=\"colab-df-convert\" onclick=\"convertToInteractive('df-0018551f-b8a0-4b3d-af79-494e1d74ffa5')\"\n",
              "            title=\"Convert this dataframe to an interactive table.\"\n",
              "            style=\"display:none;\">\n",
              "\n",
              "  <svg xmlns=\"http://www.w3.org/2000/svg\" height=\"24px\" viewBox=\"0 -960 960 960\">\n",
              "    <path d=\"M120-120v-720h720v720H120Zm60-500h600v-160H180v160Zm220 220h160v-160H400v160Zm0 220h160v-160H400v160ZM180-400h160v-160H180v160Zm440 0h160v-160H620v160ZM180-180h160v-160H180v160Zm440 0h160v-160H620v160Z\"/>\n",
              "  </svg>\n",
              "    </button>\n",
              "\n",
              "  <style>\n",
              "    .colab-df-container {\n",
              "      display:flex;\n",
              "      gap: 12px;\n",
              "    }\n",
              "\n",
              "    .colab-df-convert {\n",
              "      background-color: #E8F0FE;\n",
              "      border: none;\n",
              "      border-radius: 50%;\n",
              "      cursor: pointer;\n",
              "      display: none;\n",
              "      fill: #1967D2;\n",
              "      height: 32px;\n",
              "      padding: 0 0 0 0;\n",
              "      width: 32px;\n",
              "    }\n",
              "\n",
              "    .colab-df-convert:hover {\n",
              "      background-color: #E2EBFA;\n",
              "      box-shadow: 0px 1px 2px rgba(60, 64, 67, 0.3), 0px 1px 3px 1px rgba(60, 64, 67, 0.15);\n",
              "      fill: #174EA6;\n",
              "    }\n",
              "\n",
              "    .colab-df-buttons div {\n",
              "      margin-bottom: 4px;\n",
              "    }\n",
              "\n",
              "    [theme=dark] .colab-df-convert {\n",
              "      background-color: #3B4455;\n",
              "      fill: #D2E3FC;\n",
              "    }\n",
              "\n",
              "    [theme=dark] .colab-df-convert:hover {\n",
              "      background-color: #434B5C;\n",
              "      box-shadow: 0px 1px 3px 1px rgba(0, 0, 0, 0.15);\n",
              "      filter: drop-shadow(0px 1px 2px rgba(0, 0, 0, 0.3));\n",
              "      fill: #FFFFFF;\n",
              "    }\n",
              "  </style>\n",
              "\n",
              "    <script>\n",
              "      const buttonEl =\n",
              "        document.querySelector('#df-0018551f-b8a0-4b3d-af79-494e1d74ffa5 button.colab-df-convert');\n",
              "      buttonEl.style.display =\n",
              "        google.colab.kernel.accessAllowed ? 'block' : 'none';\n",
              "\n",
              "      async function convertToInteractive(key) {\n",
              "        const element = document.querySelector('#df-0018551f-b8a0-4b3d-af79-494e1d74ffa5');\n",
              "        const dataTable =\n",
              "          await google.colab.kernel.invokeFunction('convertToInteractive',\n",
              "                                                    [key], {});\n",
              "        if (!dataTable) return;\n",
              "\n",
              "        const docLinkHtml = 'Like what you see? Visit the ' +\n",
              "          '<a target=\"_blank\" href=https://colab.research.google.com/notebooks/data_table.ipynb>data table notebook</a>'\n",
              "          + ' to learn more about interactive tables.';\n",
              "        element.innerHTML = '';\n",
              "        dataTable['output_type'] = 'display_data';\n",
              "        await google.colab.output.renderOutput(dataTable, element);\n",
              "        const docLink = document.createElement('div');\n",
              "        docLink.innerHTML = docLinkHtml;\n",
              "        element.appendChild(docLink);\n",
              "      }\n",
              "    </script>\n",
              "  </div>\n",
              "\n",
              "\n",
              "    <div id=\"df-9200b43c-dd70-40f4-9bbb-84026e5c5c83\">\n",
              "      <button class=\"colab-df-quickchart\" onclick=\"quickchart('df-9200b43c-dd70-40f4-9bbb-84026e5c5c83')\"\n",
              "                title=\"Suggest charts\"\n",
              "                style=\"display:none;\">\n",
              "\n",
              "<svg xmlns=\"http://www.w3.org/2000/svg\" height=\"24px\"viewBox=\"0 0 24 24\"\n",
              "     width=\"24px\">\n",
              "    <g>\n",
              "        <path d=\"M19 3H5c-1.1 0-2 .9-2 2v14c0 1.1.9 2 2 2h14c1.1 0 2-.9 2-2V5c0-1.1-.9-2-2-2zM9 17H7v-7h2v7zm4 0h-2V7h2v10zm4 0h-2v-4h2v4z\"/>\n",
              "    </g>\n",
              "</svg>\n",
              "      </button>\n",
              "\n",
              "<style>\n",
              "  .colab-df-quickchart {\n",
              "      --bg-color: #E8F0FE;\n",
              "      --fill-color: #1967D2;\n",
              "      --hover-bg-color: #E2EBFA;\n",
              "      --hover-fill-color: #174EA6;\n",
              "      --disabled-fill-color: #AAA;\n",
              "      --disabled-bg-color: #DDD;\n",
              "  }\n",
              "\n",
              "  [theme=dark] .colab-df-quickchart {\n",
              "      --bg-color: #3B4455;\n",
              "      --fill-color: #D2E3FC;\n",
              "      --hover-bg-color: #434B5C;\n",
              "      --hover-fill-color: #FFFFFF;\n",
              "      --disabled-bg-color: #3B4455;\n",
              "      --disabled-fill-color: #666;\n",
              "  }\n",
              "\n",
              "  .colab-df-quickchart {\n",
              "    background-color: var(--bg-color);\n",
              "    border: none;\n",
              "    border-radius: 50%;\n",
              "    cursor: pointer;\n",
              "    display: none;\n",
              "    fill: var(--fill-color);\n",
              "    height: 32px;\n",
              "    padding: 0;\n",
              "    width: 32px;\n",
              "  }\n",
              "\n",
              "  .colab-df-quickchart:hover {\n",
              "    background-color: var(--hover-bg-color);\n",
              "    box-shadow: 0 1px 2px rgba(60, 64, 67, 0.3), 0 1px 3px 1px rgba(60, 64, 67, 0.15);\n",
              "    fill: var(--button-hover-fill-color);\n",
              "  }\n",
              "\n",
              "  .colab-df-quickchart-complete:disabled,\n",
              "  .colab-df-quickchart-complete:disabled:hover {\n",
              "    background-color: var(--disabled-bg-color);\n",
              "    fill: var(--disabled-fill-color);\n",
              "    box-shadow: none;\n",
              "  }\n",
              "\n",
              "  .colab-df-spinner {\n",
              "    border: 2px solid var(--fill-color);\n",
              "    border-color: transparent;\n",
              "    border-bottom-color: var(--fill-color);\n",
              "    animation:\n",
              "      spin 1s steps(1) infinite;\n",
              "  }\n",
              "\n",
              "  @keyframes spin {\n",
              "    0% {\n",
              "      border-color: transparent;\n",
              "      border-bottom-color: var(--fill-color);\n",
              "      border-left-color: var(--fill-color);\n",
              "    }\n",
              "    20% {\n",
              "      border-color: transparent;\n",
              "      border-left-color: var(--fill-color);\n",
              "      border-top-color: var(--fill-color);\n",
              "    }\n",
              "    30% {\n",
              "      border-color: transparent;\n",
              "      border-left-color: var(--fill-color);\n",
              "      border-top-color: var(--fill-color);\n",
              "      border-right-color: var(--fill-color);\n",
              "    }\n",
              "    40% {\n",
              "      border-color: transparent;\n",
              "      border-right-color: var(--fill-color);\n",
              "      border-top-color: var(--fill-color);\n",
              "    }\n",
              "    60% {\n",
              "      border-color: transparent;\n",
              "      border-right-color: var(--fill-color);\n",
              "    }\n",
              "    80% {\n",
              "      border-color: transparent;\n",
              "      border-right-color: var(--fill-color);\n",
              "      border-bottom-color: var(--fill-color);\n",
              "    }\n",
              "    90% {\n",
              "      border-color: transparent;\n",
              "      border-bottom-color: var(--fill-color);\n",
              "    }\n",
              "  }\n",
              "</style>\n",
              "\n",
              "      <script>\n",
              "        async function quickchart(key) {\n",
              "          const quickchartButtonEl =\n",
              "            document.querySelector('#' + key + ' button');\n",
              "          quickchartButtonEl.disabled = true;  // To prevent multiple clicks.\n",
              "          quickchartButtonEl.classList.add('colab-df-spinner');\n",
              "          try {\n",
              "            const charts = await google.colab.kernel.invokeFunction(\n",
              "                'suggestCharts', [key], {});\n",
              "          } catch (error) {\n",
              "            console.error('Error during call to suggestCharts:', error);\n",
              "          }\n",
              "          quickchartButtonEl.classList.remove('colab-df-spinner');\n",
              "          quickchartButtonEl.classList.add('colab-df-quickchart-complete');\n",
              "        }\n",
              "        (() => {\n",
              "          let quickchartButtonEl =\n",
              "            document.querySelector('#df-9200b43c-dd70-40f4-9bbb-84026e5c5c83 button');\n",
              "          quickchartButtonEl.style.display =\n",
              "            google.colab.kernel.accessAllowed ? 'block' : 'none';\n",
              "        })();\n",
              "      </script>\n",
              "    </div>\n",
              "\n",
              "    </div>\n",
              "  </div>\n"
            ],
            "application/vnd.google.colaboratory.intrinsic+json": {
              "type": "dataframe",
              "variable_name": "df",
              "summary": "{\n  \"name\": \"df\",\n  \"rows\": 500,\n  \"fields\": [\n    {\n      \"column\": \"person\",\n      \"properties\": {\n        \"dtype\": \"string\",\n        \"num_unique_values\": 500,\n        \"samples\": [\n          \"P_07_011\",\n          \"P_01_023\",\n          \"P_07_024\"\n        ],\n        \"semantic_type\": \"\",\n        \"description\": \"\"\n      }\n    },\n    {\n      \"column\": \"student\",\n      \"properties\": {\n        \"dtype\": \"boolean\",\n        \"num_unique_values\": 2,\n        \"samples\": [\n          true,\n          false\n        ],\n        \"semantic_type\": \"\",\n        \"description\": \"\"\n      }\n    },\n    {\n      \"column\": \"ticket\",\n      \"properties\": {\n        \"dtype\": \"string\",\n        \"num_unique_values\": 500,\n        \"samples\": [\n          \"T_f6d25b93\",\n          \"T_658876d8\"\n        ],\n        \"semantic_type\": \"\",\n        \"description\": \"\"\n      }\n    },\n    {\n      \"column\": \"peak\",\n      \"properties\": {\n        \"dtype\": \"boolean\",\n        \"num_unique_values\": 2,\n        \"samples\": [\n          true,\n          false\n        ],\n        \"semantic_type\": \"\",\n        \"description\": \"\"\n      }\n    },\n    {\n      \"column\": \"multi_mod\",\n      \"properties\": {\n        \"dtype\": \"boolean\",\n        \"num_unique_values\": 2,\n        \"samples\": [\n          true,\n          false\n        ],\n        \"semantic_type\": \"\",\n        \"description\": \"\"\n      }\n    },\n    {\n      \"column\": \"price\",\n      \"properties\": {\n        \"dtype\": \"number\",\n        \"std\": 58.615949866994555,\n        \"min\": 55.86,\n        \"max\": 310.71,\n        \"num_unique_values\": 499,\n        \"samples\": [\n          246.45,\n          176.22\n        ],\n        \"semantic_type\": \"\",\n        \"description\": \"\"\n      }\n    },\n    {\n      \"column\": \"employer\",\n      \"properties\": {\n        \"dtype\": \"category\",\n        \"num_unique_values\": 10,\n        \"samples\": [\n          \"Emp_08\",\n          \"Emp_01\"\n        ],\n        \"semantic_type\": \"\",\n        \"description\": \"\"\n      }\n    },\n    {\n      \"column\": \"emp_contrib\",\n      \"properties\": {\n        \"dtype\": \"number\",\n        \"std\": 601.6123757223115,\n        \"min\": 2209.77,\n        \"max\": 4151.09,\n        \"num_unique_values\": 10,\n        \"samples\": [\n          3052.75,\n          3948.76\n        ],\n        \"semantic_type\": \"\",\n        \"description\": \"\"\n      }\n    },\n    {\n      \"column\": \"employee_pay\",\n      \"properties\": {\n        \"dtype\": \"number\",\n        \"std\": 60.893489071086265,\n        \"min\": -25.6764,\n        \"max\": 264.1146,\n        \"num_unique_values\": 500,\n        \"samples\": [\n          169.2568,\n          97.2448\n        ],\n        \"semantic_type\": \"\",\n        \"description\": \"\"\n      }\n    }\n  ]\n}"
            }
          },
          "metadata": {},
          "execution_count": 18
        }
      ]
    },
    {
      "cell_type": "markdown",
      "source": [
        "### ✅ Step 6: Business-level KPIs plot\n"
      ],
      "metadata": {
        "id": "cXdq-3z2-f9K"
      }
    },
    {
      "cell_type": "code",
      "source": [
        "import matplotlib.pyplot as plt\n",
        "\n",
        "plt.figure()\n",
        "df.groupby(\"student\").employee_pay.mean().plot(kind=\"bar\")\n",
        "plt.ylabel(\"Avg employee pay (€)\")\n",
        "plt.title(\"Impact of student discount\")\n",
        "plt.xticks(rotation=0)\n",
        "plt.tight_layout()\n",
        "plt.savefig(\"kpi_student.png\"); plt.show()\n"
      ],
      "metadata": {
        "colab": {
          "base_uri": "https://localhost:8080/",
          "height": 486
        },
        "id": "HtKqfLBgACrO",
        "outputId": "62a57062-9bae-470e-ff54-131fcfb083e0"
      },
      "execution_count": 19,
      "outputs": [
        {
          "output_type": "display_data",
          "data": {
            "text/plain": [
              "<Figure size 640x480 with 1 Axes>"
            ],
            "image/png": "[encoded data removed]"
          },
          "metadata": {}
        }
      ]
    },
    {
      "cell_type": "markdown",
      "source": [
        "### ✅ Step 7: “Latency-style” micro-benchmark\n"
      ],
      "metadata": {
        "id": "mrHNg7tl-fyn"
      }
    },
    {
      "cell_type": "code",
      "source": [
        "import time, random\n",
        "\n",
        "SAMPLES = 5_000\n",
        "latencies = []\n",
        "persons = list(onto.Person.instances())\n",
        "for _ in trange(SAMPLES, desc=\"in-mem queries\"):\n",
        "    p = random.choice(persons)\n",
        "    t0 = time.perf_counter()\n",
        "    _ = p.has_ticket.first().price.first()      # trivial read\n",
        "    latencies.append((time.perf_counter() - t0)*1e6)  # μs\n",
        "\n",
        "lat = np.array(latencies)\n",
        "print(f\"mean {lat.mean():.1f} µs   p95 {np.percentile(lat,95):.1f} µs   qps {1e6/lat.mean():.1f}\")\n",
        "\n",
        "plt.figure()\n",
        "plt.hist(lat/1000, bins=40)\n",
        "plt.xlabel(\"Latency (ms)\")\n",
        "plt.ylabel(\"Queries\")\n",
        "plt.title(\"Ontology lookup distribution (in-memory)\")\n",
        "plt.tight_layout()\n",
        "plt.savefig(\"latency_hist.png\"); plt.show()\n"
      ],
      "metadata": {
        "colab": {
          "base_uri": "https://localhost:8080/",
          "height": 563,
          "referenced_widgets": [
            "345eab31d5294316b91c913c9c0da065",
            "309f0de5585d4bc0b22f915b85f4540d",
            "e814f36b256a44bfabc279bfbdd9977c",
            "5280480686f84121885554399605bc91",
            "1e81eb1f43d9445e8bd011da32527ba0",
            "2343dbc5e3ad4ee7bc0b49ae7f7bd859",
            "843fc1e6d5134854805aebd070a8b1b3",
            "f26d6e379bb3496097f3f93f9b42835c",
            "2ac275e122094be6b5414ba1c0782bed",
            "e1e04322cf29462ea78cd8b015999338",
            "a8ad823975934730bff8e0b2a6d175bf"
          ]
        },
        "id": "YgGbgqW_36kC",
        "outputId": "de5ae2f6-b177-41ab-ed77-b5f953f47708"
      },
      "execution_count": 20,
      "outputs": [
        {
          "output_type": "display_data",
          "data": {
            "text/plain": [
              "in-mem queries:   0%|          | 0/5000 [00:00<?, ?it/s]"
            ],
            "application/vnd.jupyter.widget-view+json": {
              "version_major": 2,
              "version_minor": 0,
              "model_id": "345eab31d5294316b91c913c9c0da065"
            }
          },
          "metadata": {}
        },
        {
          "output_type": "stream",
          "name": "stdout",
          "text": [
            "mean 2.2 µs   p95 2.6 µs   qps 458961.5\n"
          ]
        },
        {
          "output_type": "display_data",
          "data": {
            "text/plain": [
              "<Figure size 640x480 with 1 Axes>"
            ],
            "image/png": "[encoded data removed]"
          },
          "metadata": {}
        }
      ]
    },
    {
      "cell_type": "code",
      "source": [
        "## Save ontology\n",
        "# onto.save(file=\"rail_core.owl\", format=\"rdfxml\")"
      ],
      "metadata": {
        "id": "-hrnSAk_36h5"
      },
      "execution_count": 21,
      "outputs": []
    }
  ]
}